{
 "cells": [
  {
   "cell_type": "code",
   "execution_count": 1,
   "metadata": {},
   "outputs": [
    {
     "name": "stderr",
     "output_type": "stream",
     "text": [
      "c:\\Users\\EonKim\\AppData\\Local\\Programs\\Python\\Python39\\lib\\site-packages\\tqdm\\auto.py:22: TqdmWarning: IProgress not found. Please update jupyter and ipywidgets. See https://ipywidgets.readthedocs.io/en/stable/user_install.html\n",
      "  from .autonotebook import tqdm as notebook_tqdm\n"
     ]
    },
    {
     "data": {
      "text/plain": [
       "<torch._C.Generator at 0x15da165f2d0>"
      ]
     },
     "execution_count": 1,
     "metadata": {},
     "output_type": "execute_result"
    }
   ],
   "source": [
    "import torch \n",
    "import torch.nn as nn \n",
    "\n",
    "torch.manual_seed(2)"
   ]
  },
  {
   "cell_type": "markdown",
   "metadata": {},
   "source": [
    "$$ \\frac{dC}{dW_2} = \\frac{dC}{dY_4} \\cdot \\frac{dY_4}{dY_3} \\cdot \\frac{dY_3}{dW_2} $$\n",
    "$$ \\frac{dC}{db_2} = \\frac{dC}{dY_4} \\cdot \\frac{dY_4}{dY_3} \\cdot \\frac{dY_3}{db_2} $$\n",
    "$$ \\frac{dC}{dW_1} = \\frac{dC}{dY_4} \\cdot \\frac{dY_4}{dY_3} \\cdot \\frac{dY_3}{dY_2} \\cdot \\frac{dY_2}{dY_1} \\cdot \\frac{dY_1}{dW_1} $$\n",
    "$$ \\frac{dC}{db_1} = \\frac{dC}{dY_4} \\cdot \\frac{dY_4}{dY_3} \\cdot \\frac{dY_3}{dY_2} \\cdot \\frac{dY_2}{dY_1} \\cdot \\frac{dY_1}{db_1} $$"
   ]
  },
  {
   "cell_type": "code",
   "execution_count": 34,
   "metadata": {},
   "outputs": [],
   "source": [
    "from sklearn import datasets \n",
    "from sklearn import preprocessing \n",
    "\n",
    "iris = datasets.load_iris()\n",
    "X = torch.tensor(preprocessing.normalize(iris.data[:, :2]), dtype=torch.float)\n",
    "y = torch.tensor(iris.target.reshape(-1, 1), dtype=torch.float)"
   ]
  },
  {
   "cell_type": "code",
   "execution_count": 78,
   "metadata": {},
   "outputs": [
    {
     "data": {
      "text/plain": [
       "(torch.Size([150, 2]), torch.Size([150, 1]))"
      ]
     },
     "execution_count": 78,
     "metadata": {},
     "output_type": "execute_result"
    }
   ],
   "source": [
    "X.shape, y.shape"
   ]
  },
  {
   "cell_type": "code",
   "execution_count": 75,
   "metadata": {},
   "outputs": [],
   "source": [
    "class FNN(nn.Module):\n",
    "    def __init__(self):\n",
    "        super(FNN, self).__init__()\n",
    "        \n",
    "        self.input_dim = 2 \n",
    "        self.hidden_dim = 32 \n",
    "        self.output_dim = 3\n",
    "        \n",
    "        self.learning_rate = 0.001 \n",
    "        self.w1 = torch.randn(self.input_dim, self.hidden_dim)\n",
    "        self.b1 = torch.zeros((self.hidden_dim))\n",
    "        \n",
    "        self.w2 = torch.randn(self.hidden_dim, self.output_dim)\n",
    "        self.b2 = torch.randn(self.output_dim)\n",
    "        \n",
    "    def sigmoid(self, s):\n",
    "        return 1 / ( 1 + torch.exp(-s))\n",
    "\n",
    "    def sigmoid_derivative(self, s):\n",
    "        return s * (1 - s)\n",
    "    \n",
    "    def tanh(self, s):\n",
    "        return (torch.exp(s) - torch.exp(-s)) / (torch.exp(s) + torch.exp(-s))\n",
    "\n",
    "    def tanh_derivative(self, s):\n",
    "        return 1 - torch.pow(s, 2)\n",
    "    \n",
    "    def forward(self, X):\n",
    "        self.y1 = torch.matmul(X, self.w1) + self.b1 \n",
    "        \n",
    "        self.y2 = self.sigmoid(self.y1)\n",
    "        \n",
    "        self.y3 = torch.matmul(self.y2, self.w2) + self.b2\n",
    "        \n",
    "        y4 = self.sigmoid(self.y3)\n",
    "        return y4\n",
    "\n",
    "    def backward(self, X, l, y4):\n",
    "        self.dC_dy4 = y4 - l\n",
    "        \n",
    "        self.dy4_dy3 = self.sigmoid_derivative(y4)\n",
    "        self.dy3_dw2 = self.y2 \n",
    "        \n",
    "        self.y4_delta = self.dC_dy4 * self.dy4_dy3 \n",
    "        \n",
    "        self.dC_dw2 = torch.matmul(torch.t(self.dy3_dw2), self.y4_delta)\n",
    "        self.dC_db2 = torch.sum(self.y4_delta)\n",
    "        \n",
    "        self.dy3_dy2 = self.w2 \n",
    "        self.dy2_dy1 = self.sigmoid_derivative(self.y2)\n",
    "        \n",
    "        self.y2_delta = torch.matmul(self.y4_delta, torch.t(self.dy3_dy2)) * self.dy2_dy1 \n",
    "        self.dC_dw1 = torch.matmul(torch.t(X), self.y2_delta)\n",
    "        self.dC_db1 = torch.sum(self.y2_delta) \n",
    "\n",
    "        self.w1 -= self.learning_rate * self.dC_dw1 \n",
    "        self.w2 -= self.learning_rate * self.dC_dw2 \n",
    "        self.b1 -= self.learning_rate * self.dC_db1 \n",
    "        self.b2 -= self.learning_rate * self.dC_db2 \n",
    "        \n",
    "    def train(self, X, l):\n",
    "        y4 = self.forward(X)\n",
    "        self.backward(X, l, y4)"
   ]
  },
  {
   "cell_type": "code",
   "execution_count": 76,
   "metadata": {},
   "outputs": [
    {
     "name": "stdout",
     "output_type": "stream",
     "text": [
      "Epoch 0 | Loss: 9.119670867919922\n",
      "Epoch 20 | Loss: 6.69555139541626\n",
      "Epoch 40 | Loss: 6.51153039932251\n",
      "Epoch 60 | Loss: 6.389831066131592\n",
      "Epoch 80 | Loss: 6.274810314178467\n",
      "Epoch 100 | Loss: 6.154539585113525\n",
      "Epoch 120 | Loss: 6.022982120513916\n",
      "Epoch 140 | Loss: 5.874863147735596\n",
      "Epoch 160 | Loss: 5.703821659088135\n",
      "Epoch 180 | Loss: 5.500678062438965\n",
      "Epoch 200 | Loss: 5.2504377365112305\n",
      "Epoch 220 | Loss: 4.925319194793701\n",
      "Epoch 240 | Loss: 4.464056491851807\n",
      "Epoch 260 | Loss: 3.684159755706787\n",
      "Epoch 280 | Loss: 1.618038296699524\n",
      "Epoch 300 | Loss: 0.3244049549102783\n",
      "Epoch 320 | Loss: 0.2529853284358978\n",
      "Epoch 340 | Loss: 0.2362871617078781\n",
      "Epoch 360 | Loss: 0.232988178730011\n",
      "Epoch 380 | Loss: 0.23450328409671783\n",
      "Epoch 400 | Loss: 0.23763342201709747\n",
      "Epoch 420 | Loss: 0.24101921916007996\n",
      "Epoch 440 | Loss: 0.2441917508840561\n",
      "Epoch 460 | Loss: 0.2471068948507309\n",
      "Epoch 480 | Loss: 0.2498663365840912\n",
      "Epoch 500 | Loss: 0.25257715582847595\n",
      "Epoch 520 | Loss: 0.2553052306175232\n",
      "Epoch 540 | Loss: 0.2580729126930237\n",
      "Epoch 560 | Loss: 0.26087358593940735\n",
      "Epoch 580 | Loss: 0.26368454098701477\n",
      "Epoch 600 | Loss: 0.26647892594337463\n",
      "Epoch 620 | Loss: 0.26923152804374695\n",
      "Epoch 640 | Loss: 0.2719217538833618\n",
      "Epoch 660 | Loss: 0.27453383803367615\n",
      "Epoch 680 | Loss: 0.27705711126327515\n",
      "Epoch 700 | Loss: 0.2794840633869171\n",
      "Epoch 720 | Loss: 0.28181010484695435\n",
      "Epoch 740 | Loss: 0.2840318977832794\n",
      "Epoch 760 | Loss: 0.2861471176147461\n",
      "Epoch 780 | Loss: 0.288154274225235\n",
      "Epoch 800 | Loss: 0.29005175828933716\n",
      "Epoch 820 | Loss: 0.29183825850486755\n",
      "Epoch 840 | Loss: 0.29351258277893066\n",
      "Epoch 860 | Loss: 0.29507380723953247\n",
      "Epoch 880 | Loss: 0.296520859003067\n",
      "Epoch 900 | Loss: 0.297853022813797\n",
      "Epoch 920 | Loss: 0.29906946420669556\n",
      "Epoch 940 | Loss: 0.30016985535621643\n",
      "Epoch 960 | Loss: 0.3011540472507477\n",
      "Epoch 980 | Loss: 0.30202189087867737\n",
      "Epoch 1000 | Loss: 0.3027738332748413\n"
     ]
    }
   ],
   "source": [
    "model = FNN()\n",
    "\n",
    "loss_list = []\n",
    "\n",
    "num_epochs = 1001\n",
    "\n",
    "for epoch in range(num_epochs):\n",
    "    y_hat = model(X)\n",
    "    \n",
    "    cross_entropy_loss = -(1/y.shape[0]) * torch.sum(torch.multiply(y, torch.log(y_hat)))\n",
    "    \n",
    "    # We have to take cross entropy loss over all our samples, 100 in this 2-class iris dataset\n",
    "    mean_cross_entropy_loss = torch.mean(cross_entropy_loss).detach().item()\n",
    "    \n",
    "    # Print our mean cross entropy loss\n",
    "    if epoch % 20 == 0:\n",
    "        print('Epoch {} | Loss: {}'.format(epoch, mean_cross_entropy_loss))\n",
    "    loss_list.append(mean_cross_entropy_loss)\n",
    "    \n",
    "    # (1) Forward propagation: to get our predictions to pass to our cross entropy loss function\n",
    "    # (2) Back propagation: get our partial derivatives w.r.t. parameters (gradients)\n",
    "    # (3) Gradient Descent: update our weights with our gradients\n",
    "    model.train(X, y)"
   ]
  },
  {
   "cell_type": "code",
   "execution_count": 77,
   "metadata": {},
   "outputs": [
    {
     "data": {
      "text/plain": [
       "<AxesSubplot:>"
      ]
     },
     "execution_count": 77,
     "metadata": {},
     "output_type": "execute_result"
    },
    {
     "data": {
      "image/png": "[encoded data removed]",
      "text/plain": [
       "<Figure size 432x288 with 1 Axes>"
      ]
     },
     "metadata": {
      "needs_background": "light"
     },
     "output_type": "display_data"
    }
   ],
   "source": [
    "import pandas as pd\n",
    "%matplotlib inline\n",
    "pd.Series(loss_list).plot()"
   ]
  }
 ],
 "metadata": {
  "kernelspec": {
   "display_name": "Python 3.9.6 64-bit",
   "language": "python",
   "name": "python3"
  },
  "language_info": {
   "codemirror_mode": {
    "name": "ipython",
    "version": 3
   },
   "file_extension": ".py",
   "mimetype": "text/x-python",
   "name": "python",
   "nbconvert_exporter": "python",
   "pygments_lexer": "ipython3",
   "version": "3.9.6"
  },
  "orig_nbformat": 4,
  "vscode": {
   "interpreter": {
    "hash": "116e0bc72a1820dee7c1d3f3e708778f7416cc41eb6b2ea33b8e8b62fc39e31e"
   }
  }
 },
 "nbformat": 4,
 "nbformat_minor": 2
}
