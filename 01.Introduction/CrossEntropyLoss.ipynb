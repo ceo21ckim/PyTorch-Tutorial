{
 "cells": [
  {
   "cell_type": "markdown",
   "metadata": {},
   "source": [
    "## $ \\text{Cross Entropy Loss} $ \n",
    "\n",
    "`CrossEntropyLoss`는 내부적으로 `LogSoftmax`와 `NLLLoss`가 결합된 함수다. \n",
    "\n",
    "`LogSoftmax`는 Softmax 함수를 사용한 후 Log 함수를 적용한 것을 의미하고, `NLLLoss`는 Negative Log Likelihood를 의미한다. \n",
    "\n",
    "$$ l_n = -w_{y_n} \\log \\frac{\\exp(x_{n, y_n})}{\\sum^C_{c=1}\\exp(x_{n,c})} $$"
   ]
  },
  {
   "cell_type": "code",
   "execution_count": 2,
   "metadata": {},
   "outputs": [],
   "source": [
    "import torch\n",
    "import torch.nn as nn "
   ]
  },
  {
   "cell_type": "code",
   "execution_count": 17,
   "metadata": {},
   "outputs": [
    {
     "name": "stdout",
     "output_type": "stream",
     "text": [
      "tensor([[ 0.0893,  0.6787,  1.0965, -0.8594,  1.0114],\n",
      "        [-1.6852, -0.4836,  0.8726,  0.5809, -1.7477],\n",
      "        [-2.4419,  1.0551, -1.0063,  0.2250,  0.1060]], requires_grad=True)\n",
      "tensor([0, 1, 4])\n",
      "tensor(1.9633, grad_fn=<NllLossBackward0>)\n",
      "tensor(1.6332, grad_fn=<NllLossBackward0>)\n"
     ]
    }
   ],
   "source": [
    "CE_loss = nn.CrossEntropyLoss()\n",
    "inputs = torch.randn(3, 5, requires_grad=True)\n",
    "label_target = torch.empty(3, dtype=torch.long).random_(5)\n",
    "output = CE_loss(inputs, label_target)\n",
    "\n",
    "\n",
    "print(inputs)\n",
    "print(label_target)\n",
    "\n",
    "print(output)\n",
    "\n",
    "m = nn.Sigmoid()\n",
    "output = CE_loss(m(inputs), label_target)\n",
    "print(output)"
   ]
  },
  {
   "cell_type": "code",
   "execution_count": 8,
   "metadata": {},
   "outputs": [
    {
     "data": {
      "text/plain": [
       "tensor([4, 3, 2])"
      ]
     },
     "execution_count": 8,
     "metadata": {},
     "output_type": "execute_result"
    }
   ],
   "source": [
    "# Example of target with class probabilities\n",
    "inputs = torch.randn(3, 5, requires_grad=True)\n",
    "prob_target = torch.randn(3, 5).softmax(dim=1)\n",
    "output = CE_loss(inputs, prob_target)\n",
    "output.backward()"
   ]
  }
 ],
 "metadata": {
  "kernelspec": {
   "display_name": "Python 3.9.7 ('base')",
   "language": "python",
   "name": "python3"
  },
  "language_info": {
   "codemirror_mode": {
    "name": "ipython",
    "version": 3
   },
   "file_extension": ".py",
   "mimetype": "text/x-python",
   "name": "python",
   "nbconvert_exporter": "python",
   "pygments_lexer": "ipython3",
   "version": "3.9.7"
  },
  "orig_nbformat": 4,
  "vscode": {
   "interpreter": {
    "hash": "ab749e6bd40103abaeee03a7e234ec4504e53b668b2a7d3f8423a9fdc8248596"
   }
  }
 },
 "nbformat": 4,
 "nbformat_minor": 2
}
