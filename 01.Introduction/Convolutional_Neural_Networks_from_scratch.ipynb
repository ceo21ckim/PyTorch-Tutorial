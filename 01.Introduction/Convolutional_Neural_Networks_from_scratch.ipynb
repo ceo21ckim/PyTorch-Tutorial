{
 "cells": [
  {
   "cell_type": "code",
   "execution_count": 1,
   "metadata": {},
   "outputs": [
    {
     "name": "stderr",
     "output_type": "stream",
     "text": [
      "c:\\Users\\EonKim\\AppData\\Local\\Programs\\Python\\Python39\\lib\\site-packages\\tqdm\\auto.py:22: TqdmWarning: IProgress not found. Please update jupyter and ipywidgets. See https://ipywidgets.readthedocs.io/en/stable/user_install.html\n",
      "  from .autonotebook import tqdm as notebook_tqdm\n"
     ]
    }
   ],
   "source": [
    "from sklearn.datasets import fetch_openml\n",
    "from sklearn.utils import check_random_state\n",
    "from sklearn.model_selection import train_test_split\n",
    "from sklearn.preprocessing import StandardScaler\n",
    "import matplotlib.pyplot as plt\n",
    "import pandas as pd\n",
    "import numpy as np\n",
    "import torch\n",
    "%matplotlib inline"
   ]
  },
  {
   "cell_type": "code",
   "execution_count": 25,
   "metadata": {},
   "outputs": [],
   "source": [
    "# Load data from https://www.openml.org/d/554\n",
    "X, y = fetch_openml('mnist_784', version=1, return_X_y=True)"
   ]
  },
  {
   "cell_type": "code",
   "execution_count": 26,
   "metadata": {},
   "outputs": [
    {
     "name": "stdout",
     "output_type": "stream",
     "text": [
      "X shape: (70000, 784)\n",
      "y shape: (70000,)\n",
      "Single sample shape: (28, 28)\n"
     ]
    },
    {
     "data": {
      "text/plain": [
       "<Figure size 432x288 with 0 Axes>"
      ]
     },
     "metadata": {},
     "output_type": "display_data"
    },
    {
     "data": {
      "image/png": "[encoded data removed]",
      "text/plain": [
       "<Figure size 288x288 with 1 Axes>"
      ]
     },
     "metadata": {
      "needs_background": "light"
     },
     "output_type": "display_data"
    }
   ],
   "source": [
    "print(f'X shape: {X.shape}')\n",
    "print(f'y shape: {y.shape}')\n",
    "\n",
    "single_sample = X.loc[0,:].values.reshape(28,28)\n",
    "print(f'Single sample shape: {single_sample.shape}')\n",
    "\n",
    "plt.gray()\n",
    "plt.matshow(single_sample)\n",
    "plt.show()"
   ]
  },
  {
   "cell_type": "code",
   "execution_count": 27,
   "metadata": {},
   "outputs": [
    {
     "name": "stdout",
     "output_type": "stream",
     "text": [
      "Training shape: (60000, 784)\n",
      "Testing shape (10000, 784)\n"
     ]
    }
   ],
   "source": [
    "train_samples = 60000\n",
    "random_state = check_random_state(0)\n",
    "permutation = random_state.permutation(X.shape[0])\n",
    "\n",
    "X = X.iloc[permutation]\n",
    "y = y.iloc[permutation]\n",
    "\n",
    "X_train, X_test, Y_train, Y_test = train_test_split(X, y, train_size=train_samples, test_size=10000, random_state=0)\n",
    "\n",
    "scaler = StandardScaler()\n",
    "X_train = scaler.fit_transform(X_train)\n",
    "X_test = scaler.fit_transform(X_test)\n",
    "\n",
    "\n",
    "print(f'Training shape: {X_train.shape}')\n",
    "print(f'Testing shape {X_test.shape}')"
   ]
  },
  {
   "cell_type": "markdown",
   "metadata": {},
   "source": [
    "# Convolutional Layer \n",
    "\n",
    "$$ O = \\frac{W - K + 2 \\cdot P}{S} + 1 $$"
   ]
  },
  {
   "cell_type": "code",
   "execution_count": 37,
   "metadata": {},
   "outputs": [
    {
     "name": "stdout",
     "output_type": "stream",
     "text": [
      "==================================================\n",
      "Input shape: \t [28, 28]\n",
      "==================================================\n",
      "Padding shape: \t 0\n",
      "Output shape: \t 24\n",
      "Region shape: \t [5, 5]\n",
      "Kernel shape: \t [8, 5, 5]\n",
      "Single Slide: \t [8]\n",
      "==================================================\n",
      "Conv (f) shape: \t [24, 24, 8]\n",
      "==================================================\n"
     ]
    }
   ],
   "source": [
    "class ConvolutionalLayer:\n",
    "    def __init__(self, num_kernels, kernel_shape):\n",
    "        self.num_kernels = num_kernels \n",
    "        self.kernel_shape = kernel_shape \n",
    "        self.k = self.kernel_shape[0]\n",
    "        \n",
    "        self.kernel_theta = torch.randn(self.num_kernels, self.kernel_shape[0], self.kernel_shape[1])\n",
    "    \n",
    "    def slider(self, image):\n",
    "        h, w = image.shape\n",
    "        for h_idx in range(h - (self.k - 1)): # h: height, w: width\n",
    "            for w_idx in range(w - (self.k - 1)):\n",
    "                single_slide_area = image[h_idx:(h_idx + self.k), w_idx:(w_idx + self.k)]\n",
    "                yield single_slide_area, h_idx, w_idx \n",
    "    \n",
    "    def forward(self, images):\n",
    "        \n",
    "        assert single_sample.dim() == 2\n",
    "        \n",
    "        _, w = images.shape \n",
    "        p = 0\n",
    "        o = (w - self.k) + 1\n",
    "        print('Padding shape: \\t', p)\n",
    "        print('Output shape: \\t', o)\n",
    "        \n",
    "        output = torch.zeros((o, o, self.num_kernels))\n",
    "        \n",
    "        for single_slide_area, h_idx, w_idx in self.slider(images):\n",
    "            if h_idx == 0 and w_idx == 0 :\n",
    "                print('Region shape: \\t', list(single_slide_area.shape))\n",
    "                print('Kernel shape: \\t', list(self.kernel_theta.shape))\n",
    "                print('Single Slide: \\t', list(output[h_idx, w_idx].shape))\n",
    "            \n",
    "            output[h_idx, w_idx] = torch.sum(single_slide_area * self.kernel_theta, axis=(1, 2))\n",
    "        output = 1. / (1. + torch.exp(-output))\n",
    "    \n",
    "        return output\n",
    "\n",
    "single_sample = X.loc[0].values.reshape(28, 28)\n",
    "single_sample = torch.tensor(single_sample)\n",
    "\n",
    "print('='*50)\n",
    "print(f'Input shape: \\t {list(single_sample.shape)}')\n",
    "print('='*50)\n",
    "\n",
    "Conv = ConvolutionalLayer(num_kernels=8, kernel_shape=(5, 5))\n",
    "output = Conv.forward(single_sample)\n",
    "\n",
    "print('='*50)\n",
    "print(f'Conv (f) shape: \\t {list(output.shape)}')\n",
    "print('='*50)"
   ]
  },
  {
   "cell_type": "code",
   "execution_count": 41,
   "metadata": {},
   "outputs": [
    {
     "name": "stdout",
     "output_type": "stream",
     "text": [
      "==================================================\n",
      "Input shape: \t [24, 24, 8]\n",
      "==================================================\n",
      "Lecun initialization SD: 0.1\n",
      "input shape: \t torch.Size([1, 4608])\n",
      "weight shape: \t torch.Size([4608, 10])\n",
      "bias shape \t torch.Size([10])\n",
      "==================================================\n",
      "Affine & Soft(arg)max (f) shape: \t [1, 10]\n",
      "==================================================\n",
      "Probas: 0.112889 0.000923 0.000026 0.067042 0.000001 1.890935e-07 0.814461 0.001939 0.000121 0.002597\n"
     ]
    }
   ],
   "source": [
    "class AffineSoftmaxLayer:\n",
    "    def __init__(self, affine_weight_shape):\n",
    "        self.affine_weight_shape = affine_weight_shape\n",
    "        self.w = torch.zeros(self.affine_weight_shape[0] * self.affine_weight_shape[1] * self.affine_weight_shape[2], self.affine_weight_shape[3])\n",
    "        self.b = torch.zeros(self.affine_weight_shape[3])\n",
    "        \n",
    "        \n",
    "        print(f'Lecun initialization SD: {1/self.affine_weight_shape[3]}')\n",
    "        self.w = torch.nn.init.normal_(self.w, mean=0, std=1/self.affine_weight_shape[3])\n",
    "        self.b = torch.nn.init.normal_(self.b, mean=0, std=1/self.affine_weight_shape[3])\n",
    "        \n",
    "    def forward(self, image):\n",
    "        image = image.reshape(1, -1)\n",
    "        print(f'input shape: \\t {image.shape}')\n",
    "        print(f'weight shape: \\t {self.w.shape}')\n",
    "        print(f'bias shape \\t {self.b.shape}')\n",
    "        logits = torch.mm(image, self.w) + self.b \n",
    "        proba = torch.exp(logits) / torch.sum(torch.exp(logits))\n",
    "        return proba \n",
    "\n",
    "\n",
    "print('='*50)\n",
    "print(f'Input shape: \\t {list(output.shape)}')\n",
    "print('='*50)\n",
    "\n",
    "# Forward: Affine and Softmax\n",
    "affinesoftmax = AffineSoftmaxLayer(affine_weight_shape=(output.shape[0], output.shape[1], output.shape[2], len(np.unique(Y_train))))\n",
    "output = affinesoftmax.forward(output)\n",
    "\n",
    "print('='*50)\n",
    "print(f'Affine & Soft(arg)max (f) shape: \\t {list(output.shape)}')\n",
    "print('='*50)\n",
    "\n",
    "print(f'Probas: {pd.DataFrame(output.numpy()).to_string(index=False, header=False)}')"
   ]
  }
 ],
 "metadata": {
  "kernelspec": {
   "display_name": "Python 3.9.6 64-bit",
   "language": "python",
   "name": "python3"
  },
  "language_info": {
   "codemirror_mode": {
    "name": "ipython",
    "version": 3
   },
   "file_extension": ".py",
   "mimetype": "text/x-python",
   "name": "python",
   "nbconvert_exporter": "python",
   "pygments_lexer": "ipython3",
   "version": "3.9.6"
  },
  "orig_nbformat": 4,
  "vscode": {
   "interpreter": {
    "hash": "116e0bc72a1820dee7c1d3f3e708778f7416cc41eb6b2ea33b8e8b62fc39e31e"
   }
  }
 },
 "nbformat": 4,
 "nbformat_minor": 2
}
