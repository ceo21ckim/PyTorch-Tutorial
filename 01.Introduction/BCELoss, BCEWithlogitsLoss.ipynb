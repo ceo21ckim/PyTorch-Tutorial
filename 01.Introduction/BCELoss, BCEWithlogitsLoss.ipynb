{
 "cells": [
  {
   "cell_type": "markdown",
   "metadata": {},
   "source": [
    "## $ \\text{Compare BCELoss and BCEWithLogitsLoss} $\n",
    "\n",
    "Binary Classification 을 수행할 떄 BCELoss를 주로 사용한다. `PyTorch`에는 Binary Classification을 위한 Loss Function인 `BCELoss`와 `BCEWithLogitsLoss`를 제공한다. \n",
    "\n",
    "두 함수는 둘다 Binary Classification을 수행할 때 사용하지만 사용법이 조금 다르다. 어떻게 다른지 알아보자. "
   ]
  },
  {
   "cell_type": "code",
   "execution_count": 1,
   "metadata": {},
   "outputs": [
    {
     "name": "stderr",
     "output_type": "stream",
     "text": [
      "c:\\Users\\EonKim\\anaconda3\\envs\\dgl\\lib\\site-packages\\tqdm\\auto.py:22: TqdmWarning: IProgress not found. Please update jupyter and ipywidgets. See https://ipywidgets.readthedocs.io/en/stable/user_install.html\n",
      "  from .autonotebook import tqdm as notebook_tqdm\n"
     ]
    }
   ],
   "source": [
    "import torch"
   ]
  },
  {
   "cell_type": "code",
   "execution_count": 17,
   "metadata": {},
   "outputs": [
    {
     "data": {
      "text/plain": [
       "tensor(0.2410)"
      ]
     },
     "execution_count": 17,
     "metadata": {},
     "output_type": "execute_result"
    }
   ],
   "source": [
    "target = torch.ones([10], dtype=torch.float32)\n",
    "inputs = torch.full([10], 1.3)\n",
    "logit_criterion = torch.nn.BCEWithLogitsLoss()\n",
    "logit_criterion(inputs, target)"
   ]
  },
  {
   "cell_type": "markdown",
   "metadata": {},
   "source": [
    "`BCEWithLogitsLoss`는 모델의 출력갑싱 확률값(Logits)으로 나오지 않더라도 Logits으로 변환해서 출력한다 .\n",
    "\n",
    "반면에, `BCELoss`는 `nn.Sigmoid`를 통해 출려값을 확률값으로 변환한 후 계산하여야 한다. 만약 모델의 출력에서 Sigmoid를 사용하는 경우 이 과정은 필요 없다. "
   ]
  },
  {
   "cell_type": "code",
   "execution_count": 8,
   "metadata": {},
   "outputs": [],
   "source": [
    "import torch.nn as nn "
   ]
  },
  {
   "cell_type": "code",
   "execution_count": 22,
   "metadata": {},
   "outputs": [
    {
     "data": {
      "text/plain": [
       "tensor(0.2410)"
      ]
     },
     "execution_count": 22,
     "metadata": {},
     "output_type": "execute_result"
    }
   ],
   "source": [
    "m = nn.Sigmoid()\n",
    "bce_criterion = nn.BCELoss()\n",
    "target = torch.ones([10], dtype=torch.float32)\n",
    "inputs = torch.full([10], 1.3)\n",
    "\n",
    "logit_inputs = m(inputs)\n",
    "bce_criterion(logit_inputs, target)\n"
   ]
  },
  {
   "cell_type": "code",
   "execution_count": 23,
   "metadata": {},
   "outputs": [
    {
     "data": {
      "text/plain": [
       "tensor(0.2410)"
      ]
     },
     "execution_count": 23,
     "metadata": {},
     "output_type": "execute_result"
    }
   ],
   "source": [
    "target = torch.ones([10], dtype=torch.float32)\n",
    "inputs = torch.full([10], 1.3)\n",
    "logit_criterion = torch.nn.BCEWithLogitsLoss()\n",
    "logit_criterion(inputs, target)"
   ]
  }
 ],
 "metadata": {
  "kernelspec": {
   "display_name": "Python 3.10.4 ('dgl')",
   "language": "python",
   "name": "python3"
  },
  "language_info": {
   "codemirror_mode": {
    "name": "ipython",
    "version": 3
   },
   "file_extension": ".py",
   "mimetype": "text/x-python",
   "name": "python",
   "nbconvert_exporter": "python",
   "pygments_lexer": "ipython3",
   "version": "3.10.4"
  },
  "orig_nbformat": 4,
  "vscode": {
   "interpreter": {
    "hash": "91f4586c667beba9fc73d5e38cfe2361778c9000e218f655761c33977cb8e239"
   }
  }
 },
 "nbformat": 4,
 "nbformat_minor": 2
}
